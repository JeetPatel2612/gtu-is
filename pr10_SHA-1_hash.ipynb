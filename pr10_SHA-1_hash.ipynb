{
 "cells": [
  {
   "cell_type": "code",
   "execution_count": 19,
   "metadata": {},
   "outputs": [
    {
     "name": "stdout",
     "output_type": "stream",
     "text": [
      "Enter the string:sha-1\n",
      "The hexadecimal equivalent of SHA256 is : \n",
      " 5756e6c781c0e5edf659583469fd3709d4f3acc11507f683f3c2a9ebb25d3b7d\n",
      "\n",
      "The hexadecimal equivalent of SHA384 is : \n",
      " 0cd746d252876364e779da29c8fd92c56f85c60fce8d83ce20043e5e50ed9a733152881fd125be28a1a6b7b6cfc7df55\n",
      "\n",
      "The hexadecimal equivalent of SHA224 is : \n",
      " 29a63e5414e47cd13408f3eed77a6fadd4772ba360d1f5ce716c8483\n",
      "\n",
      "The hexadecimal equivalent of SHA512 is : \n",
      " 23e164eb42e5cd435cf7482e1e943abcc6303bbe67580e0a010655dce02e0e1ef710591f952e2387c6a64b42e0cd3706d18b07d77e4f6424ade33c955f555a6f\n",
      "\n",
      "The hexadecimal equivalent of SHA1 is : \n",
      " b710a299818728a4e4cb4851fca1607ae797a07b\n",
      "\n"
     ]
    }
   ],
   "source": [
    "import hashlib\n",
    "\n",
    "def print_sha_hashes(input_string):\n",
    "    \"\"\"\n",
    "    Prints the SHA hash values of the input string.\n",
    "    \n",
    "    Args:\n",
    "        input_string (str): The string to be hashed.\n",
    "    \"\"\"\n",
    "    hash_functions = [hashlib.sha256, hashlib.sha384, hashlib.sha224, hashlib.sha512, hashlib.sha1]\n",
    "    hash_names = [\"SHA256\", \"SHA384\", \"SHA224\", \"SHA512\", \"SHA1\"]\n",
    "\n",
    "    for hash_function, hash_name in zip(hash_functions, hash_names):\n",
    "        print(f\"The hexadecimal equivalent of {hash_name} is : \\n\", hash_function(input_string.encode()).hexdigest())\n",
    "        print(\"\\r\")\n",
    "\n",
    "# Example usage\n",
    "input_string = input(\"Enter the string:\")\n",
    "print_sha_hashes(input_string)"
   ]
  },
  {
   "cell_type": "code",
   "execution_count": 20,
   "metadata": {},
   "outputs": [
    {
     "name": "stdout",
     "output_type": "stream",
     "text": [
      "Enter the message:sha-1\n",
      "Message: sha-1\n",
      "SHA-1 Cipher Message: b710a299818728a4e4cb4851fca1607ae797a07b\n"
     ]
    }
   ],
   "source": [
    "import hashlib\n",
    "\n",
    "message = input(\"Enter the message:\")\n",
    "cipherMessage = hashlib.sha1(message.encode()).hexdigest()\n",
    "\n",
    "print(\"Message: \" + message)\n",
    "print(\"SHA-1 Cipher Message: \" + cipherMessage)"
   ]
  }
 ],
 "metadata": {
  "kernelspec": {
   "display_name": "Python 3 (ipykernel)",
   "language": "python",
   "name": "python3"
  },
  "language_info": {
   "codemirror_mode": {
    "name": "ipython",
    "version": 3
   },
   "file_extension": ".py",
   "mimetype": "text/x-python",
   "name": "python",
   "nbconvert_exporter": "python",
   "pygments_lexer": "ipython3",
   "version": "3.9.12"
  }
 },
 "nbformat": 4,
 "nbformat_minor": 2
}
