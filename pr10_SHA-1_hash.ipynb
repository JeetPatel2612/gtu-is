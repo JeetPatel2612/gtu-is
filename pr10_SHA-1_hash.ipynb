{
 "cells": [
  {
   "cell_type": "code",
   "execution_count": 14,
   "metadata": {},
   "outputs": [
    {
     "name": "stdout",
     "output_type": "stream",
     "text": [
      "Enter the string:hello world\n",
      "The hexadecimal equivalent of SHA256 is : \n",
      " b94d27b9934d3e08a52e52d7da7dabfac484efe37a5380ee9088f7ace2efcde9\n",
      "\n",
      "The hexadecimal equivalent of SHA384 is : \n",
      " fdbd8e75a67f29f701a4e040385e2e23986303ea10239211af907fcbb83578b3e417cb71ce646efd0819dd8c088de1bd\n",
      "\n",
      "The hexadecimal equivalent of SHA224 is : \n",
      " 2f05477fc24bb4faefd86517156dafdecec45b8ad3cf2522a563582b\n",
      "\n",
      "The hexadecimal equivalent of SHA512 is : \n",
      " 309ecc489c12d6eb4cc40f50c902f2b4d0ed77ee511a7c7a9bcd3ca86d4cd86f989dd35bc5ff499670da34255b45b0cfd830e81f605dcf7dc5542e93ae9cd76f\n",
      "\n",
      "The hexadecimal equivalent of SHA1 is : \n",
      " 2aae6c35c94fcfb415dbe95f408b9ce91ee846ed\n",
      "\n"
     ]
    }
   ],
   "source": [
    "import hashlib\n",
    "\n",
    "def print_sha_hashes(input_string):\n",
    "    \"\"\"\n",
    "    Prints the SHA hash values of the input string.\n",
    "    \n",
    "    Args:\n",
    "        input_string (str): The string to be hashed.\n",
    "    \"\"\"\n",
    "    hash_functions = [hashlib.sha256, hashlib.sha384, hashlib.sha224, hashlib.sha512, hashlib.sha1]\n",
    "    hash_names = [\"SHA256\", \"SHA384\", \"SHA224\", \"SHA512\", \"SHA1\"]\n",
    "\n",
    "    for hash_function, hash_name in zip(hash_functions, hash_names):\n",
    "        print(f\"The hexadecimal equivalent of {hash_name} is : \\n\", hash_function(input_string.encode()).hexdigest())\n",
    "        print(\"\\r\")\n",
    "\n",
    "# Example usage\n",
    "input_string = input(\"Enter the string:\")\n",
    "print_sha_hashes(input_string)"
   ]
  }
 ],
 "metadata": {
  "kernelspec": {
   "display_name": "Python 3 (ipykernel)",
   "language": "python",
   "name": "python3"
  },
  "language_info": {
   "codemirror_mode": {
    "name": "ipython",
    "version": 3
   },
   "file_extension": ".py",
   "mimetype": "text/x-python",
   "name": "python",
   "nbconvert_exporter": "python",
   "pygments_lexer": "ipython3",
   "version": "3.9.12"
  }
 },
 "nbformat": 4,
 "nbformat_minor": 2
}
