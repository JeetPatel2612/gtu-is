{
  "nbformat": 4,
  "nbformat_minor": 0,
  "metadata": {
    "colab": {
      "provenance": []
    },
    "kernelspec": {
      "name": "python3",
      "display_name": "Python 3"
    },
    "language_info": {
      "name": "python"
    }
  },
  "cells": [
    {
      "cell_type": "code",
      "execution_count": 1,
      "metadata": {
        "colab": {
          "base_uri": "https://localhost:8080/"
        },
        "id": "fesPyP_qTtwp",
        "outputId": "37824959-86fa-480f-8ed2-f215536c8c00"
      },
      "outputs": [
        {
          "output_type": "stream",
          "name": "stdout",
          "text": [
            "Enter the 5x5 key matrix (each row separated by a space):\n",
            "Row 1: 3 3 2 6 2\n",
            "Row 2: 4 2 4 1 7\n",
            "Row 3: 2 1 2 5 8\n",
            "Row 4: 9 3 1 1 3\n",
            "Row 5: 7 5 6 4 1\n",
            "Enter the plaintext: hello world\n",
            "\n",
            "Plaintext: HELLOWORLD\n",
            "Ciphertext: WNRMVQDHUC\n",
            "Decrypted text: HELLOWORLD\n"
          ]
        }
      ],
      "source": [
        "import numpy as np\n",
        "\n",
        "# Helper function to convert text to numbers and vice versa\n",
        "def text_to_numbers(text):\n",
        "    return [ord(char) - ord('A') for char in text.upper()]\n",
        "\n",
        "def numbers_to_text(numbers):\n",
        "    return ''.join(chr(num + ord('A')) for num in numbers)\n",
        "\n",
        "# Encrypt function\n",
        "def hill_encrypt(plaintext, key_matrix):\n",
        "    plaintext_numbers = text_to_numbers(plaintext)\n",
        "    plaintext_vector = np.array(plaintext_numbers).reshape(-1, 5)\n",
        "    ciphertext_vector = np.dot(plaintext_vector, key_matrix) % 26\n",
        "    ciphertext_numbers = ciphertext_vector.flatten()\n",
        "    return numbers_to_text(ciphertext_numbers)\n",
        "\n",
        "# Decrypt function\n",
        "def hill_decrypt(ciphertext, key_matrix):\n",
        "    ciphertext_numbers = text_to_numbers(ciphertext)\n",
        "    ciphertext_vector = np.array(ciphertext_numbers).reshape(-1, 5)\n",
        "\n",
        "    # Calculate inverse of the key matrix modulo 26\n",
        "    determinant = int(round(np.linalg.det(key_matrix)))\n",
        "    determinant_inv = pow(determinant, -1, 26)\n",
        "    key_matrix_inv = determinant_inv * np.round(determinant * np.linalg.inv(key_matrix)).astype(int) % 26\n",
        "\n",
        "    plaintext_vector = np.dot(ciphertext_vector, key_matrix_inv) % 26\n",
        "    plaintext_numbers = plaintext_vector.flatten()\n",
        "    return numbers_to_text(plaintext_numbers)\n",
        "\n",
        "# Function to input the 5x5 key matrix from user\n",
        "def input_key_matrix():\n",
        "    print(\"Enter the 5x5 key matrix (each row separated by a space):\")\n",
        "    matrix = []\n",
        "    for i in range(5):\n",
        "        row = list(map(int, input(f\"Row {i+1}: \").strip().split()))\n",
        "        if len(row) != 5:\n",
        "            raise ValueError(\"Each row must have exactly 5 integers.\")\n",
        "        matrix.append(row)\n",
        "    return np.array(matrix)\n",
        "\n",
        "# Function to input the plaintext from user\n",
        "def input_plaintext():\n",
        "    plaintext = input(\"Enter the plaintext: \").upper().replace(\" \", \"\")\n",
        "    if len(plaintext) % 5 != 0:\n",
        "        padding_length = 5 - (len(plaintext) % 5)\n",
        "        plaintext += 'X' * padding_length\n",
        "    return plaintext\n",
        "\n",
        "# Main function to execute the encryption and decryption\n",
        "def main():\n",
        "    key_matrix = input_key_matrix()\n",
        "    plaintext = input_plaintext()\n",
        "\n",
        "    ciphertext = hill_encrypt(plaintext, key_matrix)\n",
        "    decrypted_text = hill_decrypt(ciphertext, key_matrix)\n",
        "\n",
        "    print(f\"\\nPlaintext: {plaintext}\")\n",
        "    print(f\"Ciphertext: {ciphertext}\")\n",
        "    print(f\"Decrypted text: {decrypted_text}\")\n",
        "\n",
        "if __name__ == \"__main__\":\n",
        "    main()\n"
      ]
    },
    {
      "cell_type": "code",
      "source": [],
      "metadata": {
        "id": "mrOvj4iaTvcK"
      },
      "execution_count": null,
      "outputs": []
    }
  ]
}