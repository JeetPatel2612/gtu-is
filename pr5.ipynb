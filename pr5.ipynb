{
  "cells": [
    {
      "cell_type": "code",
      "source": [
        "def generate_vigenere_table():\n",
        "    \"\"\"Generate a Vigenère cipher table.\"\"\"\n",
        "    table = []\n",
        "    for i in range(26):\n",
        "        row = [(chr((j + i) % 26 + ord('A'))) for j in range(26)]\n",
        "        table.append(row)\n",
        "    return table\n",
        "\n",
        "def vigenere_encrypt(plaintext, keyword):\n",
        "    \"\"\"Encrypt plaintext using the Vigenère cipher with the given keyword.\"\"\"\n",
        "    table = generate_vigenere_table()\n",
        "    plaintext = plaintext.upper()\n",
        "    keyword = keyword.upper()\n",
        "    encrypted_text = []\n",
        "    keyword_length = len(keyword)\n",
        "\n",
        "    keyword_index = 0\n",
        "    for char in plaintext:\n",
        "        if char.isalpha():\n",
        "            row = ord(keyword[keyword_index]) - ord('A')\n",
        "            col = ord(char) - ord('A')\n",
        "            encrypted_char = table[row][col]\n",
        "            encrypted_text.append(encrypted_char)\n",
        "            keyword_index = (keyword_index + 1) % keyword_length\n",
        "        else:\n",
        "            encrypted_text.append(char)\n",
        "\n",
        "    return ''.join(encrypted_text)\n",
        "\n",
        "def vigenere_decrypt(ciphertext, keyword):\n",
        "    \"\"\"Decrypt ciphertext using the Vigenère cipher with the given keyword.\"\"\"\n",
        "    table = generate_vigenere_table()\n",
        "    ciphertext = ciphertext.upper()\n",
        "    keyword = keyword.upper()\n",
        "    decrypted_text = []\n",
        "    keyword_length = len(keyword)\n",
        "\n",
        "    keyword_index = 0\n",
        "    for char in ciphertext:\n",
        "        if char.isalpha():\n",
        "            row = ord(keyword[keyword_index]) - ord('A')\n",
        "            col = table[row].index(char)\n",
        "            decrypted_char = chr(col + ord('A'))\n",
        "            decrypted_text.append(decrypted_char)\n",
        "            keyword_index = (keyword_index + 1) % keyword_length\n",
        "        else:\n",
        "            decrypted_text.append(char)\n",
        "\n",
        "    return ''.join(decrypted_text)\n",
        "\n",
        "# Example usage\n",
        "key = input(\"Key: \")\n",
        "plaintext = input(\"Plaintext: \")\n",
        "encrypted = vigenere_encrypt(plaintext, key)\n",
        "print(\"Encrypted:\", encrypted)\n",
        "decrypted = vigenere_decrypt(encrypted, key)\n",
        "print(\"Decrypted:\", decrypted)\n"
      ],
      "metadata": {
        "colab": {
          "base_uri": "https://localhost:8080/"
        },
        "id": "HcNPhS_xkI8M",
        "outputId": "36f3fb6e-091d-408a-c38e-199a2232a700"
      },
      "execution_count": null,
      "outputs": [
        {
          "output_type": "stream",
          "name": "stdout",
          "text": [
            "Key: Jeet\n",
            "Plaintext: hello\n",
            "Encrypted: QIPEX\n",
            "Decrypted: HELLO\n"
          ]
        }
      ]
    }
  ],
  "metadata": {
    "colab": {
      "provenance": []
    },
    "language_info": {
      "name": "python"
    },
    "kernelspec": {
      "name": "python3",
      "display_name": "Python 3"
    }
  },
  "nbformat": 4,
  "nbformat_minor": 0
}