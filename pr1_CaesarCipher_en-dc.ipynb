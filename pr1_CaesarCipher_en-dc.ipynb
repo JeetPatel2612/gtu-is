{
 "cells": [
  {
   "cell_type": "code",
   "execution_count": 24,
   "id": "002dc9cd",
   "metadata": {},
   "outputs": [
    {
     "name": "stdout",
     "output_type": "stream",
     "text": [
      "Enter the message: ssasit\n",
      "Enter the shift value: 7\n",
      "Encrypted: zzhzpa\n",
      "Decrypted: ssasit\n"
     ]
    }
   ],
   "source": [
    "def caesar_cipher_encrypt(msg, shift):\n",
    "    ciphertext = \"\"\n",
    "    for char in msg:\n",
    "        if char.isalpha():\n",
    "            if char.isupper(): #Checks if the character is alphabetic\n",
    "                shifted_char = chr((ord(char) - ord('A') + shift) % 26 + ord('A'))\n",
    "            else:\n",
    "                shifted_char = chr((ord(char) - ord('a') + shift) % 26 + ord('a'))\n",
    "            ciphertext += shifted_char\n",
    "        else:\n",
    "            ciphertext += char\n",
    "    return ciphertext\n",
    "\n",
    "def caesar_cipher_decrypt(ciphertext, shift):\n",
    "    msg = \"\"\n",
    "    for char in ciphertext:\n",
    "        if char.isalpha():\n",
    "            if char.isupper():\n",
    "                shifted_char = chr((ord(char) - ord('A') - shift) % 26 + ord('A'))\n",
    "            else:\n",
    "                shifted_char = chr((ord(char) - ord('a') - shift) % 26 + ord('a'))\n",
    "            msg += shifted_char\n",
    "        else:\n",
    "            msg += char\n",
    "    return msg\n",
    "\n",
    "msg = input(\"Enter the message: \")\n",
    "shift = int(input(\"Enter the shift value: \"))\n",
    "\n",
    "encrypted_text = caesar_cipher_encrypt(msg, shift)\n",
    "print(\"Encrypted:\", encrypted_text)\n",
    "\n",
    "decrypted_text = caesar_cipher_decrypt(encrypted_text, shift)\n",
    "print(\"Decrypted:\", decrypted_text)"
   ]
  }
 ],
 "metadata": {
  "kernelspec": {
   "display_name": "Python 3 (ipykernel)",
   "language": "python",
   "name": "python3"
  },
  "language_info": {
   "codemirror_mode": {
    "name": "ipython",
    "version": 3
   },
   "file_extension": ".py",
   "mimetype": "text/x-python",
   "name": "python",
   "nbconvert_exporter": "python",
   "pygments_lexer": "ipython3",
   "version": "3.11.4"
  }
 },
 "nbformat": 4,
 "nbformat_minor": 5
}
