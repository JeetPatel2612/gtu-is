{
 "cells": [
  {
   "cell_type": "code",
   "execution_count": 1,
   "metadata": {},
   "outputs": [
    {
     "name": "stdout",
     "output_type": "stream",
     "text": [
      "The value of P: 23\n",
      "The value of G: 9\n",
      "The private key a for Alice: 4\n",
      "The private key b for Bob: 3\n",
      "Secret key for Alice is: 9\n",
      "Secret key for Bob is: 9\n"
     ]
    }
   ],
   "source": [
    "# Diffie-Hellman Code\n",
    "\n",
    "# Power function to return value of a^b mod P\n",
    "def power(a, b, p):\n",
    "    if b == 1:\n",
    "        return a\n",
    "    else:\n",
    "        return pow(a, b) % p\n",
    "\n",
    "# Main function\n",
    "def main():\n",
    "    # Both persons agree upon the public keys G and P\n",
    "    # A prime number P is taken\n",
    "    P = 23\n",
    "    print(\"The value of P:\", P)\n",
    "\n",
    "    # A primitive root for P, G is taken\n",
    "    G = 9\n",
    "    print(\"The value of G:\", G)\n",
    "\n",
    "    # Alice chooses the private key a\n",
    "    # a is the chosen private key\n",
    "    a = 4\n",
    "    print(\"The private key a for Alice:\", a)\n",
    "\n",
    "    # Gets the generated key\n",
    "    x = power(G, a, P)\n",
    "\n",
    "    # Bob chooses the private key b\n",
    "    # b is the chosen private key\n",
    "    b = 3\n",
    "    print(\"The private key b for Bob:\", b)\n",
    "\n",
    "    # Gets the generated key\n",
    "    y = power(G, b, P)\n",
    "\n",
    "    # Generating the secret key after the exchange of keys\n",
    "    ka = power(y, a, P)  # Secret key for Alice\n",
    "    kb = power(x, b, P)  # Secret key for Bob\n",
    "\n",
    "    print(\"Secret key for Alice is:\", ka)\n",
    "    print(\"Secret key for Bob is:\", kb)\n",
    "\n",
    "if __name__ == \"__main__\":\n",
    "    main()"
   ]
  },
  {
   "cell_type": "code",
   "execution_count": null,
   "metadata": {},
   "outputs": [],
   "source": []
  }
 ],
 "metadata": {
  "kernelspec": {
   "display_name": "Python 3",
   "language": "python",
   "name": "python3"
  },
  "language_info": {
   "codemirror_mode": {
    "name": "ipython",
    "version": 3
   },
   "file_extension": ".py",
   "mimetype": "text/x-python",
   "name": "python",
   "nbconvert_exporter": "python",
   "pygments_lexer": "ipython3",
   "version": "3.7.1"
  }
 },
 "nbformat": 4,
 "nbformat_minor": 2
}
