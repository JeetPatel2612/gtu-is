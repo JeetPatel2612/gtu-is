{
 "cells": [
  {
   "cell_type": "code",
   "execution_count": 2,
   "metadata": {},
   "outputs": [
    {
     "name": "stdout",
     "output_type": "stream",
     "text": [
      "Plain Text: jeet patel\n",
      "Key: jeet\n",
      "Encrypted: eaXetXjplteX\n",
      "Decrypted: jeetpatel\n"
     ]
    }
   ],
   "source": [
    "def encrypt(plaintext, keyword):\n",
    "    # Remove spaces from the plaintext\n",
    "    plaintext = plaintext.replace(' ', '')\n",
    "    \n",
    "    # Fill in the grid with the plaintext and padding\n",
    "    num_cols = len(keyword)\n",
    "    num_rows = -(-len(plaintext) // num_cols)  # Ceiling division\n",
    "    padded_plaintext = plaintext.ljust(num_cols * num_rows, 'X')\n",
    "    \n",
    "    # Create a matrix\n",
    "    matrix = [padded_plaintext[i:i + num_cols] for i in range(0, len(padded_plaintext), num_cols)]\n",
    "    \n",
    "    # Create a dictionary to map column order\n",
    "    keyword_order = sorted(range(len(keyword)), key=lambda x: keyword[x])\n",
    "    keyword_order_dict = {char: idx for idx, char in enumerate(sorted(keyword))}\n",
    "    \n",
    "    # Read columns in the order determined by the sorted keyword\n",
    "    ciphertext = ''\n",
    "    for col_index in keyword_order:\n",
    "        for row in matrix:\n",
    "            ciphertext += row[col_index]\n",
    "    \n",
    "    return ciphertext\n",
    "\n",
    "\n",
    "def decrypt(ciphertext, keyword):\n",
    "    # Calculate number of columns and rows\n",
    "    num_cols = len(keyword)\n",
    "    num_rows = len(ciphertext) // num_cols\n",
    "    \n",
    "    # Create a matrix with empty values\n",
    "    matrix = [['' for _ in range(num_cols)] for _ in range(num_rows)]\n",
    "    \n",
    "    # Create a dictionary to map column order\n",
    "    keyword_order = sorted(range(len(keyword)), key=lambda x: keyword[x])\n",
    "    \n",
    "    # Fill the matrix column by column in the order determined by the keyword\n",
    "    index = 0\n",
    "    for col_index in keyword_order:\n",
    "        for row in range(num_rows):\n",
    "            matrix[row][col_index] = ciphertext[index]\n",
    "            index += 1\n",
    "    \n",
    "    # Read rows to get the plaintext\n",
    "    plaintext = ''.join([''.join(row) for row in matrix])\n",
    "    \n",
    "    # Remove padding characters\n",
    "    return plaintext.rstrip('X')\n",
    "\n",
    "\n",
    "# Example usage\n",
    "plaintext = input(\"Plain Text: \")\n",
    "keyword = input(\"Key: \")\n",
    "\n",
    "encrypted = encrypt(plaintext, keyword)\n",
    "print(f\"Encrypted: {encrypted}\")\n",
    "\n",
    "decrypted = decrypt(encrypted, keyword)\n",
    "print(f\"Decrypted: {decrypted}\")\n"
   ]
  },
  {
   "cell_type": "code",
   "execution_count": null,
   "metadata": {},
   "outputs": [],
   "source": []
  }
 ],
 "metadata": {
  "kernelspec": {
   "display_name": "Python 3",
   "language": "python",
   "name": "python3"
  },
  "language_info": {
   "codemirror_mode": {
    "name": "ipython",
    "version": 3
   },
   "file_extension": ".py",
   "mimetype": "text/x-python",
   "name": "python",
   "nbconvert_exporter": "python",
   "pygments_lexer": "ipython3",
   "version": "3.7.1"
  }
 },
 "nbformat": 4,
 "nbformat_minor": 2
}
